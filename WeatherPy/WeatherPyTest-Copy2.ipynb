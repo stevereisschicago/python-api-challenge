{
 "cells": [
  {
   "cell_type": "markdown",
   "metadata": {},
   "source": [
    "# WeatherPy\n",
    "----\n",
    "\n",
    "#### Note\n",
    "* Instructions have been included for each segment. You do not have to follow them exactly, but they are included to help you think through the steps."
   ]
  },
  {
   "cell_type": "code",
   "execution_count": 65,
   "metadata": {
    "scrolled": true
   },
   "outputs": [],
   "source": [
    "# Dependencies and Setup\n",
    "import matplotlib.pyplot as plt\n",
    "import pandas as pd\n",
    "import numpy as np\n",
    "import requests\n",
    "import time\n",
    "from scipy.stats import linregress\n",
    "\n",
    "# Import API key\n",
    "from api_keys import weather_api_key\n",
    "\n",
    "# Incorporated citipy to determine city based on latitude and longitude\n",
    "from citipy import citipy\n",
    "\n",
    "# Output File (CSV)\n",
    "output_data_file = \"output_data/cities.csv\"\n",
    "\n",
    "# Range of latitudes and longitudes\n",
    "lat_range = (-90, 90)\n",
    "lng_range = (-180, 180)\n",
    "\n",
    "from pprint import pprint"
   ]
  },
  {
   "cell_type": "code",
   "execution_count": 66,
   "metadata": {},
   "outputs": [
    {
     "data": {
      "text/plain": [
       "City_ID       548\n",
       "City          548\n",
       "Cloudiness    548\n",
       "Country       544\n",
       "Date          548\n",
       "Humidity      548\n",
       "Lat           548\n",
       "Lng           548\n",
       "Max Temp      548\n",
       "Wind Speed    548\n",
       "dtype: int64"
      ]
     },
     "execution_count": 66,
     "metadata": {},
     "output_type": "execute_result"
    }
   ],
   "source": [
    "output_data = pd.read_csv(output_data_file)\n",
    "\n",
    "output_data.count()"
   ]
  },
  {
   "cell_type": "code",
   "execution_count": 67,
   "metadata": {},
   "outputs": [
    {
     "data": {
      "text/html": [
       "<div>\n",
       "<style scoped>\n",
       "    .dataframe tbody tr th:only-of-type {\n",
       "        vertical-align: middle;\n",
       "    }\n",
       "\n",
       "    .dataframe tbody tr th {\n",
       "        vertical-align: top;\n",
       "    }\n",
       "\n",
       "    .dataframe thead th {\n",
       "        text-align: right;\n",
       "    }\n",
       "</style>\n",
       "<table border=\"1\" class=\"dataframe\">\n",
       "  <thead>\n",
       "    <tr style=\"text-align: right;\">\n",
       "      <th></th>\n",
       "      <th>City_ID</th>\n",
       "      <th>City</th>\n",
       "      <th>Cloudiness</th>\n",
       "      <th>Country</th>\n",
       "      <th>Date</th>\n",
       "      <th>Humidity</th>\n",
       "      <th>Lat</th>\n",
       "      <th>Lng</th>\n",
       "      <th>Max Temp</th>\n",
       "      <th>Wind Speed</th>\n",
       "    </tr>\n",
       "  </thead>\n",
       "  <tbody>\n",
       "    <tr>\n",
       "      <th>0</th>\n",
       "      <td>0</td>\n",
       "      <td>ostrovnoy</td>\n",
       "      <td>2</td>\n",
       "      <td>RU</td>\n",
       "      <td>1558378754</td>\n",
       "      <td>72</td>\n",
       "      <td>68.05</td>\n",
       "      <td>39.51</td>\n",
       "      <td>37.50</td>\n",
       "      <td>7.16</td>\n",
       "    </tr>\n",
       "    <tr>\n",
       "      <th>1</th>\n",
       "      <td>1</td>\n",
       "      <td>mahebourg</td>\n",
       "      <td>75</td>\n",
       "      <td>MU</td>\n",
       "      <td>1558378503</td>\n",
       "      <td>74</td>\n",
       "      <td>-20.41</td>\n",
       "      <td>57.70</td>\n",
       "      <td>78.80</td>\n",
       "      <td>11.41</td>\n",
       "    </tr>\n",
       "    <tr>\n",
       "      <th>2</th>\n",
       "      <td>2</td>\n",
       "      <td>qaanaaq</td>\n",
       "      <td>25</td>\n",
       "      <td>GL</td>\n",
       "      <td>1558378755</td>\n",
       "      <td>73</td>\n",
       "      <td>77.48</td>\n",
       "      <td>-69.36</td>\n",
       "      <td>22.20</td>\n",
       "      <td>2.37</td>\n",
       "    </tr>\n",
       "    <tr>\n",
       "      <th>3</th>\n",
       "      <td>3</td>\n",
       "      <td>zhuhai</td>\n",
       "      <td>0</td>\n",
       "      <td>CN</td>\n",
       "      <td>1558378755</td>\n",
       "      <td>39</td>\n",
       "      <td>40.71</td>\n",
       "      <td>112.04</td>\n",
       "      <td>44.60</td>\n",
       "      <td>4.47</td>\n",
       "    </tr>\n",
       "    <tr>\n",
       "      <th>4</th>\n",
       "      <td>4</td>\n",
       "      <td>cape town</td>\n",
       "      <td>20</td>\n",
       "      <td>ZA</td>\n",
       "      <td>1558378755</td>\n",
       "      <td>76</td>\n",
       "      <td>-33.93</td>\n",
       "      <td>18.42</td>\n",
       "      <td>55.99</td>\n",
       "      <td>8.05</td>\n",
       "    </tr>\n",
       "    <tr>\n",
       "      <th>5</th>\n",
       "      <td>5</td>\n",
       "      <td>atuona</td>\n",
       "      <td>78</td>\n",
       "      <td>PF</td>\n",
       "      <td>1558378755</td>\n",
       "      <td>76</td>\n",
       "      <td>-9.80</td>\n",
       "      <td>-139.03</td>\n",
       "      <td>81.96</td>\n",
       "      <td>16.49</td>\n",
       "    </tr>\n",
       "    <tr>\n",
       "      <th>6</th>\n",
       "      <td>6</td>\n",
       "      <td>flinders</td>\n",
       "      <td>0</td>\n",
       "      <td>AU</td>\n",
       "      <td>1558378755</td>\n",
       "      <td>62</td>\n",
       "      <td>-34.58</td>\n",
       "      <td>150.85</td>\n",
       "      <td>60.01</td>\n",
       "      <td>11.41</td>\n",
       "    </tr>\n",
       "    <tr>\n",
       "      <th>7</th>\n",
       "      <td>7</td>\n",
       "      <td>opuwo</td>\n",
       "      <td>0</td>\n",
       "      <td>NaN</td>\n",
       "      <td>1558378523</td>\n",
       "      <td>23</td>\n",
       "      <td>-18.06</td>\n",
       "      <td>13.84</td>\n",
       "      <td>72.06</td>\n",
       "      <td>5.44</td>\n",
       "    </tr>\n",
       "    <tr>\n",
       "      <th>8</th>\n",
       "      <td>8</td>\n",
       "      <td>tiksi</td>\n",
       "      <td>95</td>\n",
       "      <td>RU</td>\n",
       "      <td>1558378756</td>\n",
       "      <td>88</td>\n",
       "      <td>71.64</td>\n",
       "      <td>128.87</td>\n",
       "      <td>14.10</td>\n",
       "      <td>15.70</td>\n",
       "    </tr>\n",
       "    <tr>\n",
       "      <th>9</th>\n",
       "      <td>9</td>\n",
       "      <td>pushkinskiye gory</td>\n",
       "      <td>6</td>\n",
       "      <td>RU</td>\n",
       "      <td>1558378756</td>\n",
       "      <td>70</td>\n",
       "      <td>57.02</td>\n",
       "      <td>28.91</td>\n",
       "      <td>65.04</td>\n",
       "      <td>6.93</td>\n",
       "    </tr>\n",
       "  </tbody>\n",
       "</table>\n",
       "</div>"
      ],
      "text/plain": [
       "   City_ID               City  Cloudiness Country        Date  Humidity  \\\n",
       "0        0          ostrovnoy           2      RU  1558378754        72   \n",
       "1        1          mahebourg          75      MU  1558378503        74   \n",
       "2        2            qaanaaq          25      GL  1558378755        73   \n",
       "3        3             zhuhai           0      CN  1558378755        39   \n",
       "4        4          cape town          20      ZA  1558378755        76   \n",
       "5        5             atuona          78      PF  1558378755        76   \n",
       "6        6           flinders           0      AU  1558378755        62   \n",
       "7        7              opuwo           0     NaN  1558378523        23   \n",
       "8        8              tiksi          95      RU  1558378756        88   \n",
       "9        9  pushkinskiye gory           6      RU  1558378756        70   \n",
       "\n",
       "     Lat     Lng  Max Temp  Wind Speed  \n",
       "0  68.05   39.51     37.50        7.16  \n",
       "1 -20.41   57.70     78.80       11.41  \n",
       "2  77.48  -69.36     22.20        2.37  \n",
       "3  40.71  112.04     44.60        4.47  \n",
       "4 -33.93   18.42     55.99        8.05  \n",
       "5  -9.80 -139.03     81.96       16.49  \n",
       "6 -34.58  150.85     60.01       11.41  \n",
       "7 -18.06   13.84     72.06        5.44  \n",
       "8  71.64  128.87     14.10       15.70  \n",
       "9  57.02   28.91     65.04        6.93  "
      ]
     },
     "execution_count": 67,
     "metadata": {},
     "output_type": "execute_result"
    }
   ],
   "source": [
    "output_data.head(10)"
   ]
  },
  {
   "cell_type": "markdown",
   "metadata": {},
   "source": [
    "## Generate Cities List"
   ]
  },
  {
   "cell_type": "code",
   "execution_count": 68,
   "metadata": {},
   "outputs": [
    {
     "data": {
      "text/plain": [
       "573"
      ]
     },
     "execution_count": 68,
     "metadata": {},
     "output_type": "execute_result"
    }
   ],
   "source": [
    "# List for holding lat_lngs and cities\n",
    "lat_lngs = []\n",
    "cities = []\n",
    "\n",
    "# Create a set of random lat and lng combinations\n",
    "lats = np.random.uniform(lat_range[0], lat_range[1], size=1500)\n",
    "lngs = np.random.uniform(lng_range[0], lng_range[1], size=1500)\n",
    "lat_lngs = zip(lats, lngs)\n",
    "\n",
    "# Identify nearest city for each lat, lng combination\n",
    "for lat_lng in lat_lngs:\n",
    "    city = citipy.nearest_city(lat_lng[0], lat_lng[1]).city_name\n",
    "    \n",
    "    # If the city is unique, then add it to a our cities list\n",
    "    if city not in cities:\n",
    "        cities.append(city)\n",
    "\n",
    "# Print the city count to confirm sufficient count\n",
    "len(cities)\n",
    "\n",
    "\n"
   ]
  },
  {
   "cell_type": "markdown",
   "metadata": {},
   "source": [
    "### Perform API Calls\n",
    "* Perform a weather check on each city using a series of successive API calls.\n",
    "* Include a print log of each city as it'sbeing processed (with the city number and city name).\n"
   ]
  },
  {
   "cell_type": "code",
   "execution_count": 69,
   "metadata": {},
   "outputs": [
    {
     "data": {
      "text/plain": [
       "'http://api.openweathermap.org/data/2.5/weather?appid=cab7a212be3c3d89c87352d6088183d2&units=imperial&q='"
      ]
     },
     "execution_count": 69,
     "metadata": {},
     "output_type": "execute_result"
    }
   ],
   "source": [
    "# You'll want the first URL you mentioned above to be without any { or } \n",
    "# and other dictionary-like python formatting that you see\n",
    "\n",
    "# URL and format\n",
    "url = \"http://api.openweathermap.org/data/2.5/weather?\"\n",
    "units = \"imperial\"\n",
    "\n",
    "# Build partial query URL\n",
    "query_url = f\"{url}appid={weather_api_key}&units={units}&q=\"\n",
    "\n",
    "query_url"
   ]
  },
  {
   "cell_type": "code",
   "execution_count": 70,
   "metadata": {},
   "outputs": [],
   "source": [
    "# Create lists to store data\n",
    "\n",
    "name = []\n",
    "cloudiness = []\n",
    "country = []\n",
    "date = []\n",
    "max_temp = []\n",
    "humidity = []\n",
    "lat = []\n",
    "lng = []\n",
    "wind = [] \n"
   ]
  },
  {
   "cell_type": "code",
   "execution_count": 71,
   "metadata": {},
   "outputs": [
    {
     "data": {
      "text/plain": [
       "{'coord': {'lon': 18.4232, 'lat': -33.9258},\n",
       " 'weather': [{'id': 800,\n",
       "   'main': 'Clear',\n",
       "   'description': 'clear sky',\n",
       "   'icon': '01n'}],\n",
       " 'base': 'stations',\n",
       " 'main': {'temp': 60.26,\n",
       "  'feels_like': 59.47,\n",
       "  'temp_min': 57.88,\n",
       "  'temp_max': 63.27,\n",
       "  'pressure': 1021,\n",
       "  'humidity': 74},\n",
       " 'visibility': 10000,\n",
       " 'wind': {'speed': 1.99, 'deg': 248, 'gust': 3},\n",
       " 'clouds': {'all': 0},\n",
       " 'dt': 1627922100,\n",
       " 'sys': {'type': 2,\n",
       "  'id': 2033665,\n",
       "  'country': 'ZA',\n",
       "  'sunrise': 1627882672,\n",
       "  'sunset': 1627920429},\n",
       " 'timezone': 7200,\n",
       " 'id': 3369157,\n",
       " 'name': 'Cape Town',\n",
       " 'cod': 200}"
      ]
     },
     "execution_count": 71,
     "metadata": {},
     "output_type": "execute_result"
    }
   ],
   "source": [
    "# Test the api \n",
    "\n",
    "city = \"cape town\"\n",
    "response1 = requests.get(query_url + city).json()\n",
    "response1\n"
   ]
  },
  {
   "cell_type": "code",
   "execution_count": 72,
   "metadata": {},
   "outputs": [
    {
     "name": "stdout",
     "output_type": "stream",
     "text": [
      "record # 0, city: esperance\n",
      "record # 1, city: castro\n",
      "record # 2, city: ponta do sol\n",
      "record # 3, city: rudnogorsk\n",
      "record # 4, city: saint-joseph\n",
      "record # 5, city: ushuaia\n",
      "record # 6, city: rikitea\n",
      "record # 7, city: saint-philippe\n",
      "record # 8, city: fairhope\n",
      "record # 9, city: albany\n",
      "City not found, skipping record\n",
      "record # 11, city: saskylakh\n",
      "record # 12, city: mezen\n",
      "record # 13, city: vaini\n",
      "record # 14, city: maxixe\n",
      "record # 15, city: port alfred\n",
      "record # 16, city: new norfolk\n",
      "record # 17, city: mago\n",
      "record # 18, city: cape town\n",
      "City not found, skipping record\n",
      "record # 20, city: nikolskoye\n",
      "record # 21, city: bethel\n",
      "record # 22, city: kodiak\n",
      "record # 23, city: cabo san lucas\n",
      "record # 24, city: tres palos\n",
      "record # 25, city: painesville\n",
      "record # 26, city: provideniya\n",
      "record # 27, city: bandarbeyla\n",
      "record # 28, city: bluff\n",
      "record # 29, city: sao filipe\n",
      "City not found, skipping record\n",
      "record # 31, city: barrow\n",
      "record # 32, city: jamestown\n",
      "record # 33, city: thompson\n",
      "record # 34, city: klaksvik\n",
      "record # 35, city: longyearbyen\n",
      "record # 36, city: hilo\n",
      "record # 37, city: ust-maya\n",
      "record # 38, city: east london\n",
      "record # 39, city: lebork\n",
      "record # 40, city: victoria\n",
      "record # 41, city: puerto ayora\n",
      "record # 42, city: hobart\n",
      "record # 43, city: plettenberg bay\n",
      "record # 44, city: busselton\n",
      "record # 45, city: faya\n",
      "record # 46, city: dikson\n",
      "record # 47, city: qaanaaq\n",
      "record # 48, city: pevek\n",
      "record # 49, city: kaitangata\n",
      "record # 50, city: constantine\n",
      "record # 51, city: severo-kurilsk\n",
      "record # 52, city: luderitz\n",
      "record # 53, city: punta arenas\n",
      "record # 54, city: faanui\n",
      "record # 55, city: ponta delgada\n",
      "record # 56, city: bredasdorp\n",
      "City not found, skipping record\n",
      "City not found, skipping record\n",
      "record # 59, city: lebu\n",
      "record # 60, city: chuy\n",
      "record # 61, city: ancud\n",
      "record # 62, city: carballo\n",
      "record # 63, city: birjand\n",
      "record # 64, city: ballina\n",
      "record # 65, city: norman wells\n",
      "record # 66, city: misratah\n",
      "record # 67, city: kapaa\n",
      "record # 68, city: patos\n",
      "record # 69, city: mar del plata\n",
      "record # 70, city: erzin\n",
      "record # 71, city: nome\n",
      "City not found, skipping record\n",
      "record # 73, city: tiksi\n",
      "record # 74, city: sinnamary\n",
      "record # 75, city: khatanga\n",
      "City not found, skipping record\n",
      "record # 77, city: waipawa\n",
      "record # 78, city: casper\n",
      "record # 79, city: coquimbo\n",
      "record # 80, city: saint-augustin\n",
      "record # 81, city: bilibino\n",
      "City not found, skipping record\n",
      "record # 83, city: cherskiy\n",
      "record # 84, city: valparaiso\n",
      "record # 85, city: maceio\n",
      "record # 86, city: hamilton\n",
      "record # 87, city: banda aceh\n",
      "record # 88, city: helena\n",
      "record # 89, city: tura\n",
      "record # 90, city: yellowknife\n",
      "record # 91, city: aklavik\n",
      "record # 92, city: kupang\n",
      "record # 93, city: hami\n",
      "record # 94, city: hirado\n",
      "record # 95, city: talaya\n",
      "record # 96, city: hithadhoo\n",
      "record # 97, city: kutoarjo\n",
      "record # 98, city: mahebourg\n",
      "City not found, skipping record\n",
      "record # 100, city: havre-saint-pierre\n",
      "record # 101, city: bambous virieux\n",
      "City not found, skipping record\n",
      "record # 103, city: caidian\n",
      "record # 104, city: port elizabeth\n",
      "record # 105, city: almere\n",
      "record # 106, city: narsaq\n",
      "record # 107, city: noumea\n",
      "record # 108, city: bandar-e lengeh\n",
      "record # 109, city: novo aripuana\n",
      "record # 110, city: xining\n",
      "record # 111, city: praia da vitoria\n",
      "record # 112, city: georgetown\n",
      "record # 113, city: avarua\n",
      "record # 114, city: katsuura\n",
      "record # 115, city: zyryanovsk\n",
      "record # 116, city: hermanus\n",
      "record # 117, city: tadine\n",
      "record # 118, city: tarakan\n",
      "record # 119, city: marsh harbour\n",
      "record # 120, city: biak\n",
      "record # 121, city: nanortalik\n",
      "record # 122, city: capaci\n",
      "record # 123, city: odweyne\n",
      "record # 124, city: taunggyi\n",
      "record # 125, city: beringovskiy\n",
      "record # 126, city: stornoway\n",
      "record # 127, city: saint austell\n",
      "record # 128, city: tasiilaq\n",
      "City not found, skipping record\n",
      "record # 130, city: clarence town\n",
      "record # 131, city: bengkulu\n",
      "record # 132, city: butaritari\n",
      "record # 133, city: atuona\n",
      "record # 134, city: lagoa\n",
      "record # 135, city: talara\n",
      "record # 136, city: yulara\n",
      "record # 137, city: tuktoyaktuk\n",
      "record # 138, city: cape girardeau\n",
      "record # 139, city: chifeng\n",
      "record # 140, city: cayenne\n",
      "record # 141, city: zyryanka\n",
      "record # 142, city: carnarvon\n",
      "record # 143, city: fairbanks\n",
      "record # 144, city: mildura\n",
      "record # 145, city: qaqortoq\n",
      "record # 146, city: shache\n",
      "record # 147, city: namatanai\n",
      "record # 148, city: mataura\n",
      "record # 149, city: bereda\n",
      "record # 150, city: rabo de peixe\n",
      "record # 151, city: alofi\n",
      "record # 152, city: kurchum\n",
      "record # 153, city: talnakh\n",
      "City not found, skipping record\n",
      "record # 155, city: cap malheureux\n",
      "record # 156, city: caldwell\n",
      "record # 157, city: egvekinot\n",
      "record # 158, city: raudeberg\n",
      "record # 159, city: clyde river\n",
      "record # 160, city: kautokeino\n",
      "record # 161, city: gora kalwaria\n",
      "record # 162, city: isangel\n",
      "City not found, skipping record\n",
      "record # 164, city: dawei\n",
      "record # 165, city: lata\n",
      "record # 166, city: kang\n",
      "record # 167, city: anchorage\n",
      "record # 168, city: brewster\n",
      "record # 169, city: champerico\n",
      "record # 170, city: port-gentil\n",
      "record # 171, city: bardiyah\n",
      "record # 172, city: tezpur\n",
      "record # 173, city: manono\n",
      "record # 174, city: ilulissat\n",
      "record # 175, city: kahului\n",
      "City not found, skipping record\n",
      "record # 177, city: waingapu\n",
      "record # 178, city: iacu\n",
      "record # 179, city: charleroi\n",
      "record # 180, city: gerash\n",
      "record # 181, city: arraial do cabo\n",
      "City not found, skipping record\n",
      "record # 183, city: vestmannaeyjar\n",
      "record # 184, city: sahbuz\n",
      "record # 185, city: tenenkou\n",
      "record # 186, city: cidreira\n",
      "record # 187, city: jhunjhunun\n",
      "record # 188, city: los llanos de aridane\n",
      "record # 189, city: bindi\n",
      "record # 190, city: buraydah\n",
      "record # 191, city: oga\n",
      "record # 192, city: suicheng\n",
      "record # 193, city: hasaki\n",
      "City not found, skipping record\n",
      "record # 195, city: touros\n",
      "record # 196, city: miri\n",
      "record # 197, city: airai\n",
      "record # 198, city: mayumba\n",
      "record # 199, city: iracoubo\n",
      "record # 200, city: prince george\n",
      "record # 201, city: vilhena\n",
      "record # 202, city: straumen\n",
      "record # 203, city: ribeira grande\n",
      "record # 204, city: burnie\n",
      "record # 205, city: olga\n",
      "record # 206, city: nurmijarvi\n",
      "record # 207, city: trairi\n",
      "record # 208, city: usinsk\n",
      "record # 209, city: nago\n",
      "record # 210, city: sitka\n",
      "record # 211, city: san patricio\n",
      "record # 212, city: harper\n",
      "record # 213, city: hervey bay\n",
      "record # 214, city: thinadhoo\n",
      "record # 215, city: barrancas\n",
      "record # 216, city: kearney\n",
      "record # 217, city: kuytun\n",
      "record # 218, city: parakan\n",
      "record # 219, city: upernavik\n",
      "record # 220, city: birao\n",
      "City not found, skipping record\n",
      "record # 222, city: grand island\n",
      "record # 223, city: parker\n",
      "record # 224, city: teluknaga\n",
      "City not found, skipping record\n",
      "record # 226, city: ahipara\n",
      "record # 227, city: tari\n",
      "record # 228, city: krasnoborsk\n",
      "record # 229, city: jesus carranza\n",
      "record # 230, city: mount gambier\n",
      "record # 231, city: chokurdakh\n",
      "City not found, skipping record\n",
      "record # 233, city: fort nelson\n",
      "record # 234, city: saldanha\n",
      "record # 235, city: saint-alexandre\n",
      "record # 236, city: svetlogorsk\n",
      "record # 237, city: pacific grove\n",
      "City not found, skipping record\n",
      "record # 239, city: rabak\n",
      "record # 240, city: kilemary\n",
      "record # 241, city: saint-michel-des-saints\n",
      "record # 242, city: potosi\n",
      "record # 243, city: margate\n",
      "record # 244, city: zeya\n",
      "record # 245, city: srednekolymsk\n",
      "record # 246, city: peterhead\n",
      "record # 247, city: kungurtug\n",
      "record # 248, city: hofn\n",
      "City not found, skipping record\n",
      "record # 250, city: derbent\n",
      "record # 251, city: adeje\n",
      "record # 252, city: chopinzinho\n",
      "record # 253, city: ibra\n",
      "record # 254, city: pangnirtung\n",
      "record # 255, city: tautira\n",
      "record # 256, city: diego de almagro\n",
      "record # 257, city: coihaique\n",
      "record # 258, city: lompoc\n",
      "record # 259, city: oktyabrskoye\n",
      "record # 260, city: kambove\n",
      "record # 261, city: pokrovsk\n",
      "record # 262, city: asfi\n",
      "record # 263, city: christchurch\n",
      "record # 264, city: bontang\n",
      "record # 265, city: russell\n",
      "record # 266, city: port keats\n",
      "City not found, skipping record\n",
      "record # 268, city: ilebo\n",
      "record # 269, city: guerrero negro\n",
      "record # 270, city: marystown\n",
      "record # 271, city: port hardy\n",
      "City not found, skipping record\n",
      "record # 273, city: kruisfontein\n",
      "record # 274, city: goderich\n",
      "record # 275, city: fukue\n",
      "City not found, skipping record\n",
      "record # 277, city: balkanabat\n",
      "record # 278, city: belle fourche\n",
      "record # 279, city: naron\n"
     ]
    },
    {
     "name": "stdout",
     "output_type": "stream",
     "text": [
      "record # 280, city: hinton\n",
      "record # 281, city: makakilo city\n",
      "record # 282, city: marzuq\n",
      "record # 283, city: korla\n",
      "record # 284, city: sorland\n",
      "record # 285, city: goure\n",
      "record # 286, city: bowen\n",
      "record # 287, city: arlit\n",
      "record # 288, city: yurino\n",
      "record # 289, city: zavetnoye\n",
      "record # 290, city: iqaluit\n",
      "record # 291, city: aktas\n",
      "record # 292, city: nara\n",
      "City not found, skipping record\n",
      "record # 294, city: wuxue\n",
      "record # 295, city: manokwari\n",
      "record # 296, city: esperanza\n",
      "record # 297, city: port lincoln\n",
      "record # 298, city: ponferrada\n",
      "record # 299, city: tifton\n",
      "record # 300, city: necochea\n",
      "record # 301, city: kavaratti\n",
      "record # 302, city: yeppoon\n",
      "City not found, skipping record\n",
      "record # 304, city: oktyabrskiy\n",
      "record # 305, city: kununurra\n",
      "record # 306, city: rio cuarto\n",
      "record # 307, city: brae\n",
      "record # 308, city: saint george\n",
      "City not found, skipping record\n",
      "record # 310, city: kytmanovo\n",
      "record # 311, city: lerwick\n",
      "record # 312, city: tokur\n",
      "record # 313, city: bubaque\n",
      "record # 314, city: madang\n",
      "City not found, skipping record\n",
      "record # 316, city: torit\n",
      "record # 317, city: wajir\n",
      "record # 318, city: sao joao da barra\n",
      "record # 319, city: verrettes\n",
      "record # 320, city: barra patuca\n",
      "record # 321, city: deyskoye\n",
      "record # 322, city: kapit\n",
      "record # 323, city: vieste\n",
      "record # 324, city: the pas\n",
      "record # 325, city: ormara\n",
      "record # 326, city: juneau\n",
      "City not found, skipping record\n",
      "City not found, skipping record\n",
      "record # 329, city: vysokogornyy\n",
      "record # 330, city: elizabeth city\n",
      "record # 331, city: maniitsoq\n",
      "City not found, skipping record\n",
      "record # 333, city: sambava\n",
      "record # 334, city: yorosso\n",
      "record # 335, city: codrington\n",
      "record # 336, city: karratha\n",
      "record # 337, city: mitsamiouli\n",
      "record # 338, city: basco\n",
      "record # 339, city: aguimes\n",
      "record # 340, city: madhubani\n",
      "record # 341, city: gat\n",
      "record # 342, city: aasiaat\n",
      "record # 343, city: kon tum\n",
      "record # 344, city: palmer\n",
      "record # 345, city: chunskiy\n",
      "record # 346, city: vazante\n",
      "record # 347, city: oyek\n",
      "record # 348, city: kashi\n",
      "record # 349, city: minden\n",
      "record # 350, city: valdivia\n",
      "City not found, skipping record\n",
      "record # 352, city: rio gallegos\n",
      "record # 353, city: verkhnevilyuysk\n",
      "record # 354, city: aras\n",
      "record # 355, city: ambilobe\n",
      "record # 356, city: kazerun\n",
      "record # 357, city: parkes\n",
      "record # 358, city: roma\n",
      "record # 359, city: boende\n",
      "record # 360, city: samarai\n",
      "record # 361, city: gravdal\n",
      "record # 362, city: berbera\n",
      "record # 363, city: altamira\n",
      "record # 364, city: garowe\n",
      "record # 365, city: jiaozuo\n",
      "record # 366, city: henties bay\n",
      "record # 367, city: benguela\n",
      "record # 368, city: pathein\n",
      "City not found, skipping record\n",
      "City not found, skipping record\n",
      "record # 371, city: wanning\n",
      "record # 372, city: loandjili\n",
      "record # 373, city: maneadero\n",
      "record # 374, city: alyangula\n",
      "record # 375, city: santa isabel\n",
      "City not found, skipping record\n",
      "record # 377, city: mwinilunga\n",
      "record # 378, city: mastic beach\n",
      "record # 379, city: half moon bay\n",
      "record # 380, city: kudahuvadhoo\n",
      "record # 381, city: dwarka\n",
      "record # 382, city: raghunathpur\n",
      "record # 383, city: champagnole\n",
      "record # 384, city: marrakesh\n",
      "record # 385, city: kansanshi\n",
      "record # 386, city: northport\n",
      "record # 387, city: souillac\n",
      "record # 388, city: stokmarknes\n",
      "record # 389, city: orange walk\n",
      "record # 390, city: ostrovnoy\n",
      "City not found, skipping record\n",
      "record # 392, city: nizhneangarsk\n",
      "record # 393, city: geraldton\n",
      "record # 394, city: muros\n",
      "record # 395, city: ninghai\n",
      "record # 396, city: tecoanapa\n",
      "record # 397, city: ermelo\n",
      "record # 398, city: tuatapere\n",
      "record # 399, city: dalvik\n",
      "record # 400, city: parana\n",
      "record # 401, city: ruwi\n",
      "record # 402, city: srandakan\n",
      "record # 403, city: carlagan\n",
      "record # 404, city: kihei\n",
      "record # 405, city: pak phanang\n",
      "record # 406, city: salalah\n",
      "record # 407, city: port blair\n",
      "record # 408, city: malmyzh\n",
      "record # 409, city: conde\n",
      "record # 410, city: dakar\n",
      "record # 411, city: amapa\n",
      "record # 412, city: baykalsk\n",
      "record # 413, city: cascais\n",
      "record # 414, city: plouzane\n",
      "City not found, skipping record\n",
      "record # 416, city: songjianghe\n",
      "record # 417, city: vila velha\n",
      "City not found, skipping record\n",
      "record # 419, city: bakau\n",
      "record # 420, city: gorontalo\n",
      "record # 421, city: leningradskiy\n",
      "record # 422, city: pecos\n",
      "record # 423, city: shubarkuduk\n",
      "record # 424, city: stuttgart\n",
      "record # 425, city: jalu\n",
      "record # 426, city: hollabrunn\n",
      "record # 427, city: tabas\n",
      "City not found, skipping record\n",
      "record # 429, city: naryan-mar\n",
      "record # 430, city: ovalle\n",
      "record # 431, city: enumclaw\n",
      "record # 432, city: banjar\n",
      "record # 433, city: vardo\n",
      "record # 434, city: colares\n",
      "record # 435, city: parsabad\n",
      "record # 436, city: sarany\n",
      "record # 437, city: popondetta\n",
      "City not found, skipping record\n",
      "record # 439, city: matay\n",
      "City not found, skipping record\n",
      "record # 441, city: ixtapa\n",
      "record # 442, city: coahuayana\n",
      "record # 443, city: hammerfest\n",
      "record # 444, city: lorengau\n",
      "record # 445, city: jizan\n",
      "record # 446, city: kuala pilah\n",
      "City not found, skipping record\n",
      "record # 448, city: batticaloa\n",
      "record # 449, city: ternate\n",
      "record # 450, city: bull savanna\n",
      "City not found, skipping record\n",
      "record # 452, city: acarau\n",
      "record # 453, city: takhtamygda\n",
      "record # 454, city: pisco\n",
      "record # 455, city: lukoyanov\n",
      "record # 456, city: eureka\n",
      "record # 457, city: shingu\n",
      "record # 458, city: gourcy\n",
      "record # 459, city: aranos\n",
      "record # 460, city: slonim\n",
      "record # 461, city: durazno\n",
      "record # 462, city: grindavik\n",
      "record # 463, city: along\n",
      "record # 464, city: pundaguitan\n",
      "record # 465, city: yen bai\n",
      "record # 466, city: tambacounda\n",
      "record # 467, city: shima\n",
      "record # 468, city: klyuchi\n",
      "record # 469, city: tupik\n",
      "record # 470, city: mount isa\n",
      "record # 471, city: rameswaram\n",
      "City not found, skipping record\n",
      "record # 473, city: sakakah\n",
      "record # 474, city: fortuna\n",
      "record # 475, city: nieuw amsterdam\n",
      "record # 476, city: villarrica\n",
      "record # 477, city: nishihara\n",
      "record # 478, city: sur\n",
      "record # 479, city: nieuw nickerie\n",
      "record # 480, city: kirakira\n",
      "record # 481, city: juegang\n",
      "record # 482, city: batagay-alyta\n",
      "record # 483, city: milos\n",
      "record # 484, city: poum\n",
      "record # 485, city: yuancheng\n",
      "record # 486, city: zhezkazgan\n",
      "record # 487, city: conceicao do araguaia\n",
      "record # 488, city: prince rupert\n",
      "record # 489, city: moree\n",
      "record # 490, city: media luna\n",
      "record # 491, city: tonota\n",
      "record # 492, city: umm lajj\n",
      "record # 493, city: zhenhai\n",
      "record # 494, city: dunedin\n",
      "record # 495, city: scarborough\n",
      "City not found, skipping record\n",
      "record # 497, city: seoul\n",
      "record # 498, city: gevrai\n",
      "record # 499, city: saint-pierre\n",
      "record # 500, city: koungheul\n",
      "record # 501, city: portland\n",
      "record # 502, city: saint-francois\n",
      "record # 503, city: emerald\n",
      "record # 504, city: paita\n",
      "record # 505, city: dengzhou\n",
      "record # 506, city: bacolod\n",
      "record # 507, city: muret\n",
      "record # 508, city: saint-paul\n",
      "record # 509, city: pedernales\n",
      "record # 510, city: buloh kasap\n",
      "record # 511, city: rundu\n",
      "record # 512, city: puerto lopez\n",
      "record # 513, city: taywarah\n",
      "record # 514, city: bodden town\n",
      "record # 515, city: saint anthony\n",
      "record # 516, city: rawson\n",
      "record # 517, city: adiake\n",
      "record # 518, city: buala\n",
      "record # 519, city: miandrivazo\n",
      "record # 520, city: lufilufi\n",
      "record # 521, city: lieksa\n",
      "record # 522, city: lianran\n",
      "record # 523, city: atambua\n",
      "record # 524, city: farmington\n",
      "record # 525, city: sao domingos do maranhao\n",
      "record # 526, city: pestravka\n",
      "record # 527, city: san juan\n",
      "record # 528, city: panjab\n",
      "record # 529, city: bani\n",
      "record # 530, city: katete\n",
      "record # 531, city: constitucion\n",
      "City not found, skipping record\n",
      "record # 533, city: calama\n",
      "City not found, skipping record\n",
      "record # 535, city: sao felix do xingu\n",
      "record # 536, city: kaeo\n",
      "record # 537, city: sena madureira\n",
      "record # 538, city: villa carlos paz\n",
      "record # 539, city: honavar\n",
      "record # 540, city: athabasca\n",
      "record # 541, city: rio grande\n",
      "record # 542, city: taiyuan\n",
      "record # 543, city: lakes entrance\n",
      "record # 544, city: camacha\n",
      "record # 545, city: torbay\n",
      "record # 546, city: wonthaggi\n",
      "record # 547, city: freeport\n",
      "record # 548, city: itarema\n",
      "record # 549, city: sharanga\n",
      "record # 550, city: watsa\n",
      "record # 551, city: santa fe\n",
      "City not found, skipping record\n",
      "record # 553, city: cleveland\n",
      "record # 554, city: nemuro\n",
      "record # 555, city: jacmel\n",
      "record # 556, city: bonavista\n",
      "City not found, skipping record\n",
      "record # 558, city: tiznit\n"
     ]
    },
    {
     "name": "stdout",
     "output_type": "stream",
     "text": [
      "record # 559, city: luanda\n",
      "record # 560, city: aksu\n",
      "record # 561, city: carbonia\n",
      "City not found, skipping record\n",
      "record # 563, city: port shepstone\n",
      "record # 564, city: tazovskiy\n",
      "record # 565, city: culaman\n",
      "record # 566, city: sept-iles\n",
      "record # 567, city: balsta\n",
      "record # 568, city: bambanglipuro\n",
      "record # 569, city: kizukuri\n",
      "record # 570, city: ashland\n",
      "record # 571, city: mocuba\n",
      "record # 572, city: otjimbingwe\n"
     ]
    }
   ],
   "source": [
    "# Build a for loop to print cities\n",
    "\n",
    "index = 0\n",
    "#for city in cities[0:15]:\n",
    "for city in cities:\n",
    "    city = city\n",
    "    try:\n",
    "        response = requests.get(query_url + city).json()\n",
    "\n",
    "        name.append(response[\"name\"])\n",
    "        max_temp.append(response[\"main\"][\"temp_max\"])\n",
    "        lat.append(response[\"coord\"][\"lat\"])\n",
    "        lng.append(response[\"coord\"][\"lon\"])\n",
    "        cloudiness.append(response[\"clouds\"][\"all\"])\n",
    "        wind.append(response[\"wind\"][\"speed\"])\n",
    "        humidity.append(response[\"main\"][\"humidity\"])\n",
    "        country.append(response[\"sys\"][\"country\"])\n",
    "        date.append(response[\"dt\"])\n",
    "        \n",
    "        print(f\"record # {index}, city: {city}\")\n",
    "    \n",
    "    except(KeyError):\n",
    "        print(\"City not found, skipping record\")\n",
    "    \n",
    "    index = index + 1\n",
    "    \n"
   ]
  },
  {
   "cell_type": "code",
   "execution_count": null,
   "metadata": {
    "scrolled": true
   },
   "outputs": [],
   "source": []
  },
  {
   "cell_type": "markdown",
   "metadata": {},
   "source": [
    "### Convert Raw Data to DataFrame\n",
    "* Export the city data into a .csv.\n",
    "* Display the DataFrame"
   ]
  },
  {
   "cell_type": "code",
   "execution_count": 73,
   "metadata": {},
   "outputs": [
    {
     "data": {
      "text/html": [
       "<div>\n",
       "<style scoped>\n",
       "    .dataframe tbody tr th:only-of-type {\n",
       "        vertical-align: middle;\n",
       "    }\n",
       "\n",
       "    .dataframe tbody tr th {\n",
       "        vertical-align: top;\n",
       "    }\n",
       "\n",
       "    .dataframe thead th {\n",
       "        text-align: right;\n",
       "    }\n",
       "</style>\n",
       "<table border=\"1\" class=\"dataframe\">\n",
       "  <thead>\n",
       "    <tr style=\"text-align: right;\">\n",
       "      <th></th>\n",
       "      <th>City</th>\n",
       "      <th>Cloudiness</th>\n",
       "      <th>Country</th>\n",
       "      <th>Date</th>\n",
       "      <th>Humidity</th>\n",
       "      <th>Latitude</th>\n",
       "      <th>Longitude</th>\n",
       "      <th>Max Temp</th>\n",
       "      <th>Wind Speed</th>\n",
       "    </tr>\n",
       "  </thead>\n",
       "  <tbody>\n",
       "    <tr>\n",
       "      <th>0</th>\n",
       "      <td>Esperance</td>\n",
       "      <td>93</td>\n",
       "      <td>AU</td>\n",
       "      <td>1627922410</td>\n",
       "      <td>77</td>\n",
       "      <td>-33.8667</td>\n",
       "      <td>121.9000</td>\n",
       "      <td>49.84</td>\n",
       "      <td>9.24</td>\n",
       "    </tr>\n",
       "    <tr>\n",
       "      <th>1</th>\n",
       "      <td>Castro</td>\n",
       "      <td>9</td>\n",
       "      <td>BR</td>\n",
       "      <td>1627922220</td>\n",
       "      <td>51</td>\n",
       "      <td>-24.7911</td>\n",
       "      <td>-50.0119</td>\n",
       "      <td>65.48</td>\n",
       "      <td>3.49</td>\n",
       "    </tr>\n",
       "    <tr>\n",
       "      <th>2</th>\n",
       "      <td>Ponta do Sol</td>\n",
       "      <td>21</td>\n",
       "      <td>PT</td>\n",
       "      <td>1627922411</td>\n",
       "      <td>73</td>\n",
       "      <td>32.6667</td>\n",
       "      <td>-17.1000</td>\n",
       "      <td>81.01</td>\n",
       "      <td>4.09</td>\n",
       "    </tr>\n",
       "    <tr>\n",
       "      <th>3</th>\n",
       "      <td>Rudnogorsk</td>\n",
       "      <td>83</td>\n",
       "      <td>RU</td>\n",
       "      <td>1627922411</td>\n",
       "      <td>79</td>\n",
       "      <td>57.2639</td>\n",
       "      <td>103.7519</td>\n",
       "      <td>53.67</td>\n",
       "      <td>2.57</td>\n",
       "    </tr>\n",
       "    <tr>\n",
       "      <th>4</th>\n",
       "      <td>Saint-Joseph</td>\n",
       "      <td>28</td>\n",
       "      <td>RE</td>\n",
       "      <td>1627922412</td>\n",
       "      <td>76</td>\n",
       "      <td>-21.3667</td>\n",
       "      <td>55.6167</td>\n",
       "      <td>66.58</td>\n",
       "      <td>3.40</td>\n",
       "    </tr>\n",
       "  </tbody>\n",
       "</table>\n",
       "</div>"
      ],
      "text/plain": [
       "           City  Cloudiness Country        Date  Humidity  Latitude  \\\n",
       "0     Esperance          93      AU  1627922410        77  -33.8667   \n",
       "1        Castro           9      BR  1627922220        51  -24.7911   \n",
       "2  Ponta do Sol          21      PT  1627922411        73   32.6667   \n",
       "3    Rudnogorsk          83      RU  1627922411        79   57.2639   \n",
       "4  Saint-Joseph          28      RE  1627922412        76  -21.3667   \n",
       "\n",
       "   Longitude  Max Temp  Wind Speed  \n",
       "0   121.9000     49.84        9.24  \n",
       "1   -50.0119     65.48        3.49  \n",
       "2   -17.1000     81.01        4.09  \n",
       "3   103.7519     53.67        2.57  \n",
       "4    55.6167     66.58        3.40  "
      ]
     },
     "execution_count": 73,
     "metadata": {},
     "output_type": "execute_result"
    }
   ],
   "source": [
    "weather_file = pd.DataFrame({ \n",
    "                        \"City\": name, \"Cloudiness\": cloudiness, \"Country\": country, \n",
    "                        \"Date\": date, \"Humidity\": humidity, \"Latitude\": lat, \n",
    "                        \"Longitude\": lng, \"Max Temp\": max_temp, \"Wind Speed\": wind})\n",
    "\n",
    "weather_file.head()"
   ]
  },
  {
   "cell_type": "code",
   "execution_count": 74,
   "metadata": {},
   "outputs": [
    {
     "data": {
      "text/plain": [
       "City          523\n",
       "Cloudiness    523\n",
       "Country       523\n",
       "Date          523\n",
       "Humidity      523\n",
       "Latitude      523\n",
       "Longitude     523\n",
       "Max Temp      523\n",
       "Wind Speed    523\n",
       "dtype: int64"
      ]
     },
     "execution_count": 74,
     "metadata": {},
     "output_type": "execute_result"
    }
   ],
   "source": [
    "weather_file.count()"
   ]
  },
  {
   "cell_type": "code",
   "execution_count": null,
   "metadata": {},
   "outputs": [],
   "source": []
  },
  {
   "cell_type": "code",
   "execution_count": 75,
   "metadata": {},
   "outputs": [],
   "source": [
    "# To CSV\n",
    "\n",
    "weather_file.to_csv(\"output_data/cities_new.csv\", index=False)"
   ]
  },
  {
   "cell_type": "markdown",
   "metadata": {},
   "source": [
    "## Inspect the data and remove the cities where the humidity > 100%.\n",
    "----\n",
    "Skip this step if there are no cities that have humidity > 100%. "
   ]
  },
  {
   "cell_type": "code",
   "execution_count": 76,
   "metadata": {},
   "outputs": [
    {
     "data": {
      "text/plain": [
       "City          0\n",
       "Cloudiness    0\n",
       "Country       0\n",
       "Date          0\n",
       "Humidity      0\n",
       "Latitude      0\n",
       "Longitude     0\n",
       "Max Temp      0\n",
       "Wind Speed    0\n",
       "dtype: int64"
      ]
     },
     "execution_count": 76,
     "metadata": {},
     "output_type": "execute_result"
    }
   ],
   "source": [
    "# Isn't 100% the highest humidity can go??\n",
    "\n",
    "humid100 = weather_file.loc[weather_file['Humidity'] > 100]\n",
    "humid100.count()"
   ]
  },
  {
   "cell_type": "code",
   "execution_count": null,
   "metadata": {},
   "outputs": [],
   "source": [
    "#  Get the indices of cities that have humidity over 100%.\n"
   ]
  },
  {
   "cell_type": "code",
   "execution_count": null,
   "metadata": {},
   "outputs": [],
   "source": [
    "# Make a new DataFrame equal to the city data to drop all humidity outliers by index.\n",
    "# Passing \"inplace=False\" will make a copy of the city_data DataFrame, which we call \"clean_city_data\".\n"
   ]
  },
  {
   "cell_type": "markdown",
   "metadata": {},
   "source": [
    "## Plotting the Data\n",
    "* Use proper labeling of the plots using plot titles (including date of analysis) and axes labels.\n",
    "* Save the plotted figures as .pngs."
   ]
  },
  {
   "cell_type": "markdown",
   "metadata": {},
   "source": [
    "## Latitude vs. Temperature Plot"
   ]
  },
  {
   "cell_type": "code",
   "execution_count": 78,
   "metadata": {
    "scrolled": true
   },
   "outputs": [
    {
     "data": {
      "image/png": "[encoded data removed]",
      "text/plain": [
       "<Figure size 432x288 with 1 Axes>"
      ]
     },
     "metadata": {
      "needs_background": "light"
     },
     "output_type": "display_data"
    },
    {
     "data": {
      "text/plain": [
       "<Figure size 432x288 with 0 Axes>"
      ]
     },
     "metadata": {},
     "output_type": "display_data"
    }
   ],
   "source": [
    "# Chart\n",
    "\n",
    "plt.scatter(weather_file[\"Latitude\"], weather_file[\"Max Temp\"], color = \"red\")\n",
    "\n",
    "plt.title(\"City Lat vs. Max Temp\")\n",
    "plt.xlabel(\"Lat\")\n",
    "plt.ylabel(\"Max Temp\")\n",
    "plt.grid(True)\n",
    "plt.show()\n",
    "\n",
    "# Save as a png\n",
    "\n",
    "plt.savefig(\"output_data/City Lat - Max Temp.png\")"
   ]
  },
  {
   "cell_type": "code",
   "execution_count": null,
   "metadata": {},
   "outputs": [],
   "source": [
    "# Chart above - higher max temperature between -20 to 40 Latitude"
   ]
  },
  {
   "cell_type": "markdown",
   "metadata": {},
   "source": [
    "## Latitude vs. Humidity Plot"
   ]
  },
  {
   "cell_type": "code",
   "execution_count": 79,
   "metadata": {},
   "outputs": [
    {
     "data": {
      "image/png": "[encoded data removed]",
      "text/plain": [
       "<Figure size 432x288 with 1 Axes>"
      ]
     },
     "metadata": {
      "needs_background": "light"
     },
     "output_type": "display_data"
    }
   ],
   "source": [
    "# Chart\n",
    "\n",
    "plt.scatter(weather_file[\"Latitude\"], weather_file[\"Humidity\"], color = \"red\")\n",
    "\n",
    "plt.title(\"City Lat vs. Humidity %\")\n",
    "plt.xlabel(\"Lat\")\n",
    "plt.ylabel(\"Humidity\")\n",
    "plt.grid(True)\n",
    "\n",
    "# Save as a png\n",
    "plt.savefig(\"output_data/City Lat - Humidity.png\")"
   ]
  },
  {
   "cell_type": "code",
   "execution_count": null,
   "metadata": {},
   "outputs": [],
   "source": [
    "# Chart above - no relationship for high humidity, but low humidity between -35 to 0 and 20 -40 Latitude"
   ]
  },
  {
   "cell_type": "markdown",
   "metadata": {},
   "source": [
    "## Latitude vs. Cloudiness Plot"
   ]
  },
  {
   "cell_type": "code",
   "execution_count": 80,
   "metadata": {},
   "outputs": [
    {
     "data": {
      "image/png": "[encoded data removed]",
      "text/plain": [
       "<Figure size 432x288 with 1 Axes>"
      ]
     },
     "metadata": {
      "needs_background": "light"
     },
     "output_type": "display_data"
    }
   ],
   "source": [
    "# Chart\n",
    "\n",
    "\n",
    "plt.scatter(weather_file[\"Latitude\"], weather_file[\"Cloudiness\"], color = \"red\")\n",
    "\n",
    "plt.title(\"City Lat vs. Cloudiness %\")\n",
    "plt.xlabel(\"Lat\")\n",
    "plt.ylabel(\"Cloudiness\")\n",
    "plt.grid(True)\n",
    "\n",
    "# Save as a png\n",
    "plt.savefig(\"output_data/City Lat - Cloudiness.png\")"
   ]
  },
  {
   "cell_type": "code",
   "execution_count": null,
   "metadata": {},
   "outputs": [],
   "source": [
    "# Chart above - cloudiness clustering at either high or low humidity, least cloudiness between 0 and 20 latitude"
   ]
  },
  {
   "cell_type": "markdown",
   "metadata": {},
   "source": [
    "## Latitude vs. Wind Speed Plot"
   ]
  },
  {
   "cell_type": "code",
   "execution_count": 81,
   "metadata": {},
   "outputs": [
    {
     "data": {
      "image/png": "[encoded data removed]",
      "text/plain": [
       "<Figure size 432x288 with 1 Axes>"
      ]
     },
     "metadata": {
      "needs_background": "light"
     },
     "output_type": "display_data"
    }
   ],
   "source": [
    "# Chart\n",
    "\n",
    "plt.scatter(weather_file[\"Latitude\"], weather_file[\"Wind Speed\"], color = \"red\")\n",
    "\n",
    "plt.title(\"City Lat vs. Wind MPH\")\n",
    "plt.xlabel(\"Lat\")\n",
    "plt.ylabel(\"Wind\")\n",
    "plt.grid(True)\n",
    "\n",
    "# Save as a png\n",
    "plt.savefig(\"output_data/City Lat - Wind.png\")"
   ]
  },
  {
   "cell_type": "code",
   "execution_count": null,
   "metadata": {},
   "outputs": [],
   "source": [
    "# Chart above - some high wind outliers but otherwise no correlations"
   ]
  },
  {
   "cell_type": "markdown",
   "metadata": {},
   "source": [
    "## Linear Regression"
   ]
  },
  {
   "cell_type": "code",
   "execution_count": 90,
   "metadata": {},
   "outputs": [
    {
     "data": {
      "text/plain": [
       "City          357\n",
       "Cloudiness    357\n",
       "Country       357\n",
       "Date          357\n",
       "Humidity      357\n",
       "Latitude      357\n",
       "Longitude     357\n",
       "Max Temp      357\n",
       "Wind Speed    357\n",
       "dtype: int64"
      ]
     },
     "execution_count": 90,
     "metadata": {},
     "output_type": "execute_result"
    }
   ],
   "source": [
    " # Create Northern and Southern Hemisphere DataFrames\n",
    "    \n",
    "nh = weather_file.loc[weather_file['Latitude']>0]\n",
    "sh = weather_file.loc[weather_file['Latitude']<0]\n",
    "\n",
    "nh.count()"
   ]
  },
  {
   "cell_type": "code",
   "execution_count": 91,
   "metadata": {},
   "outputs": [
    {
     "data": {
      "text/plain": [
       "City          166\n",
       "Cloudiness    166\n",
       "Country       166\n",
       "Date          166\n",
       "Humidity      166\n",
       "Latitude      166\n",
       "Longitude     166\n",
       "Max Temp      166\n",
       "Wind Speed    166\n",
       "dtype: int64"
      ]
     },
     "execution_count": 91,
     "metadata": {},
     "output_type": "execute_result"
    }
   ],
   "source": [
    "sh.count()"
   ]
  },
  {
   "cell_type": "code",
   "execution_count": 96,
   "metadata": {},
   "outputs": [],
   "source": [
    "x_latnh = nh[\"Latitude\"]\n",
    "y_tempnh = nh[\"Max Temp\"]\n"
   ]
  },
  {
   "cell_type": "markdown",
   "metadata": {},
   "source": [
    "####  Northern Hemisphere - Max Temp vs. Latitude Linear Regression"
   ]
  },
  {
   "cell_type": "code",
   "execution_count": 99,
   "metadata": {},
   "outputs": [
    {
     "data": {
      "image/png": "[encoded data removed]",
      "text/plain": [
       "<Figure size 432x288 with 1 Axes>"
      ]
     },
     "metadata": {
      "needs_background": "light"
     },
     "output_type": "display_data"
    },
    {
     "data": {
      "text/plain": [
       "<Figure size 432x288 with 0 Axes>"
      ]
     },
     "metadata": {},
     "output_type": "display_data"
    }
   ],
   "source": [
    "# Add the linear regression equation and line to plot\n",
    "\n",
    "x_values = x_latnh \n",
    "y_values = y_tempnh\n",
    "(slope, intercept, rvalue, pvalue, stderr) = linregress(x_values, y_values)\n",
    "regress_values = x_values * slope + intercept\n",
    "line_eq = \"y = \" + str(round(slope,2)) + \"x + \" + str(round(intercept))\n",
    "plt.scatter(x_values, y_values)\n",
    "plt.plot(x_values,regress_values,\"r-\")\n",
    "plt.annotate(line_eq,(6,10),fontsize=15,color=\"red\")\n",
    "plt.title(\"NH City Lat vs. Max Temp\")\n",
    "plt.xlabel(\"Lat\")\n",
    "plt.ylabel(\"Max Temp\")\n",
    "plt.grid(True)\n",
    "plt.show()\n",
    "\n",
    "plt.savefig(\"output_data/NH City Lat - Max Temp - Regression.png\")"
   ]
  },
  {
   "cell_type": "code",
   "execution_count": null,
   "metadata": {},
   "outputs": [],
   "source": [
    "# Chart above - relationship beetween NH city latitude and temp"
   ]
  },
  {
   "cell_type": "markdown",
   "metadata": {},
   "source": [
    "####  Southern Hemisphere - Max Temp vs. Latitude Linear Regression"
   ]
  },
  {
   "cell_type": "code",
   "execution_count": 107,
   "metadata": {},
   "outputs": [],
   "source": [
    "x_latsh = sh[\"Latitude\"]\n",
    "y_tempsh = sh[\"Max Temp\"]\n"
   ]
  },
  {
   "cell_type": "code",
   "execution_count": 108,
   "metadata": {},
   "outputs": [
    {
     "data": {
      "image/png": "[encoded data removed]",
      "text/plain": [
       "<Figure size 432x288 with 1 Axes>"
      ]
     },
     "metadata": {
      "needs_background": "light"
     },
     "output_type": "display_data"
    },
    {
     "data": {
      "text/plain": [
       "<Figure size 432x288 with 0 Axes>"
      ]
     },
     "metadata": {},
     "output_type": "display_data"
    }
   ],
   "source": [
    "x_values = x_latsh \n",
    "y_values = y_tempsh\n",
    "(slope, intercept, rvalue, pvalue, stderr) = linregress(x_values, y_values)\n",
    "regress_values = x_values * slope + intercept\n",
    "line_eq = \"y = \" + str(round(slope,2)) + \"x + \" + str(round(intercept))\n",
    "plt.scatter(x_values, y_values)\n",
    "plt.plot(x_values,regress_values,\"r-\")\n",
    "plt.annotate(line_eq,(6,10),fontsize=15,color=\"red\")\n",
    "plt.title(\"SH City Lat vs. Max Temp\")\n",
    "plt.xlabel(\"Lat\")\n",
    "plt.ylabel(\"Max Temp\")\n",
    "plt.grid(True)\n",
    "plt.show()\n",
    "\n",
    "plt.savefig(\"output_data/SH City Lat - Max Temp - Regression.png\")"
   ]
  },
  {
   "cell_type": "code",
   "execution_count": null,
   "metadata": {},
   "outputs": [],
   "source": [
    "# Chart above - relationship beetween SH city latitude and temp"
   ]
  },
  {
   "cell_type": "markdown",
   "metadata": {},
   "source": [
    "####  Northern Hemisphere - Humidity (%) vs. Latitude Linear Regression"
   ]
  },
  {
   "cell_type": "code",
   "execution_count": 120,
   "metadata": {},
   "outputs": [
    {
     "data": {
      "image/png": "[encoded data removed]",
      "text/plain": [
       "<Figure size 432x288 with 1 Axes>"
      ]
     },
     "metadata": {
      "needs_background": "light"
     },
     "output_type": "display_data"
    },
    {
     "data": {
      "text/plain": [
       "<Figure size 432x288 with 0 Axes>"
      ]
     },
     "metadata": {},
     "output_type": "display_data"
    }
   ],
   "source": [
    "x_latnh = nh[\"Latitude\"]\n",
    "y_humiditynh = nh[\"Humidity\"]\n",
    "\n",
    "# Add the linear regression equation and line to plot\n",
    "\n",
    "x_values = x_latnh \n",
    "y_values = y_humiditynh\n",
    "(slope, intercept, rvalue, pvalue, stderr) = linregress(x_values, y_values)\n",
    "regress_values = x_values * slope + intercept\n",
    "line_eq = \"y = \" + str(round(slope,2)) + \"x + \" + str(round(intercept))\n",
    "plt.scatter(x_values, y_values)\n",
    "plt.plot(x_values,regress_values,\"r-\")\n",
    "plt.annotate(line_eq,(6,10),fontsize=15,color=\"red\")\n",
    "plt.title(\"NH City Lat vs. Humidity %\")\n",
    "plt.xlabel(\"Lat\")\n",
    "plt.ylabel(\"Humidity %\")\n",
    "plt.grid(True)\n",
    "plt.show()\n",
    "\n",
    "plt.savefig(\"output_data/NH City Lat - Humidity - Regression.png\")"
   ]
  },
  {
   "cell_type": "markdown",
   "metadata": {},
   "source": [
    "####  Southern Hemisphere - Humidity (%) vs. Latitude Linear Regression"
   ]
  },
  {
   "cell_type": "code",
   "execution_count": 119,
   "metadata": {},
   "outputs": [
    {
     "data": {
      "image/png": "[encoded data removed]",
      "text/plain": [
       "<Figure size 432x288 with 1 Axes>"
      ]
     },
     "metadata": {
      "needs_background": "light"
     },
     "output_type": "display_data"
    },
    {
     "data": {
      "text/plain": [
       "<Figure size 432x288 with 0 Axes>"
      ]
     },
     "metadata": {},
     "output_type": "display_data"
    }
   ],
   "source": [
    "x_latsh = sh[\"Latitude\"]\n",
    "y_humiditysh = sh[\"Humidity\"]\n",
    "\n",
    "# Add the linear regression equation and line to plot\n",
    "\n",
    "x_values = x_latsh \n",
    "y_values = y_humiditysh\n",
    "(slope, intercept, rvalue, pvalue, stderr) = linregress(x_values, y_values)\n",
    "regress_values = x_values * slope + intercept\n",
    "line_eq = \"y = \" + str(round(slope,2)) + \"x + \" + str(round(intercept))\n",
    "plt.scatter(x_values, y_values)\n",
    "plt.plot(x_values,regress_values,\"r-\")\n",
    "plt.annotate(line_eq,(6,10),fontsize=15,color=\"red\")\n",
    "plt.title(\"SH City Lat vs. Humidity %\")\n",
    "plt.xlabel(\"Lat\")\n",
    "plt.ylabel(\"Humidity %\")\n",
    "plt.grid(True)\n",
    "plt.show()\n",
    "\n",
    "plt.savefig(\"output_data/SH City Lat - Humidity - Regression.png\")"
   ]
  },
  {
   "cell_type": "markdown",
   "metadata": {},
   "source": [
    "####  Northern Hemisphere - Cloudiness (%) vs. Latitude Linear Regression"
   ]
  },
  {
   "cell_type": "code",
   "execution_count": 118,
   "metadata": {},
   "outputs": [
    {
     "data": {
      "image/png": "[encoded data removed]",
      "text/plain": [
       "<Figure size 432x288 with 1 Axes>"
      ]
     },
     "metadata": {
      "needs_background": "light"
     },
     "output_type": "display_data"
    },
    {
     "data": {
      "text/plain": [
       "<Figure size 432x288 with 0 Axes>"
      ]
     },
     "metadata": {},
     "output_type": "display_data"
    }
   ],
   "source": [
    "x_latnh = nh[\"Latitude\"]\n",
    "y_cloudinessnh = nh[\"Cloudiness\"]\n",
    "\n",
    "# Add the linear regression equation and line to plot\n",
    "\n",
    "x_values = x_latnh \n",
    "y_values = y_cloudinessnh\n",
    "(slope, intercept, rvalue, pvalue, stderr) = linregress(x_values, y_values)\n",
    "regress_values = x_values * slope + intercept\n",
    "line_eq = \"y = \" + str(round(slope,2)) + \"x + \" + str(round(intercept))\n",
    "plt.scatter(x_values, y_values)\n",
    "plt.plot(x_values,regress_values,\"r-\")\n",
    "plt.annotate(line_eq,(6,10),fontsize=15,color=\"red\")\n",
    "plt.title(\"NH City Lat vs. Cloudiness %\")\n",
    "plt.xlabel(\"Lat\")\n",
    "plt.ylabel(\"Cloudiness %\")\n",
    "plt.grid(True)\n",
    "plt.show()\n",
    "\n",
    "plt.savefig(\"output_data/NH City Lat - Cloudiness - Regression.png\")"
   ]
  },
  {
   "cell_type": "markdown",
   "metadata": {},
   "source": [
    "####  Southern Hemisphere - Cloudiness (%) vs. Latitude Linear Regression"
   ]
  },
  {
   "cell_type": "code",
   "execution_count": 117,
   "metadata": {},
   "outputs": [
    {
     "data": {
      "image/png": "[encoded data removed]",
      "text/plain": [
       "<Figure size 432x288 with 1 Axes>"
      ]
     },
     "metadata": {
      "needs_background": "light"
     },
     "output_type": "display_data"
    },
    {
     "data": {
      "text/plain": [
       "<Figure size 432x288 with 0 Axes>"
      ]
     },
     "metadata": {},
     "output_type": "display_data"
    }
   ],
   "source": [
    "x_latsh = sh[\"Latitude\"]\n",
    "y_cloudinesssh = sh[\"Cloudiness\"]\n",
    "\n",
    "# Add the linear regression equation and line to plot\n",
    "\n",
    "x_values = x_latsh \n",
    "y_values = y_cloudinesssh\n",
    "(slope, intercept, rvalue, pvalue, stderr) = linregress(x_values, y_values)\n",
    "regress_values = x_values * slope + intercept\n",
    "line_eq = \"y = \" + str(round(slope,2)) + \"x + \" + str(round(intercept))\n",
    "plt.scatter(x_values, y_values)\n",
    "plt.plot(x_values,regress_values,\"r-\")\n",
    "plt.annotate(line_eq,(6,10),fontsize=15,color=\"red\")\n",
    "plt.title(\"SH City Lat vs. Cloudiness %\")\n",
    "plt.xlabel(\"Lat\")\n",
    "plt.ylabel(\"Cloudiness %\")\n",
    "plt.grid(True)\n",
    "plt.show()\n",
    "\n",
    "plt.savefig(\"output_data/SH City Lat - Cloudiness - Regression.png\")"
   ]
  },
  {
   "cell_type": "markdown",
   "metadata": {},
   "source": [
    "####  Northern Hemisphere - Wind Speed (mph) vs. Latitude Linear Regression"
   ]
  },
  {
   "cell_type": "code",
   "execution_count": 116,
   "metadata": {},
   "outputs": [
    {
     "data": {
      "image/png": "[encoded data removed]",
      "text/plain": [
       "<Figure size 432x288 with 1 Axes>"
      ]
     },
     "metadata": {
      "needs_background": "light"
     },
     "output_type": "display_data"
    },
    {
     "data": {
      "text/plain": [
       "<Figure size 432x288 with 0 Axes>"
      ]
     },
     "metadata": {},
     "output_type": "display_data"
    }
   ],
   "source": [
    "x_latnh = nh[\"Latitude\"]\n",
    "y_windspeednh = nh[\"Wind Speed\"]\n",
    "\n",
    "# Add the linear regression equation and line to plot\n",
    "\n",
    "x_values = x_latnh \n",
    "y_values = y_windspeednh\n",
    "(slope, intercept, rvalue, pvalue, stderr) = linregress(x_values, y_values)\n",
    "regress_values = x_values * slope + intercept\n",
    "line_eq = \"y = \" + str(round(slope,2)) + \"x + \" + str(round(intercept))\n",
    "plt.scatter(x_values, y_values)\n",
    "plt.plot(x_values,regress_values,\"r-\")\n",
    "plt.annotate(line_eq,(6,10),fontsize=15,color=\"red\")\n",
    "plt.title(\"NH City Lat vs. Wind Speed MPH\")\n",
    "plt.xlabel(\"Lat\")\n",
    "plt.ylabel(\"Wind Speed MPH\")\n",
    "plt.grid(True)\n",
    "plt.show()\n",
    "\n",
    "plt.savefig(\"output_data/NH City Lat - Wind Speed - Regression.png\")"
   ]
  },
  {
   "cell_type": "markdown",
   "metadata": {},
   "source": [
    "####  Southern Hemisphere - Wind Speed (mph) vs. Latitude Linear Regression"
   ]
  },
  {
   "cell_type": "code",
   "execution_count": 115,
   "metadata": {},
   "outputs": [
    {
     "data": {
      "image/png": "[encoded data removed]",
      "text/plain": [
       "<Figure size 432x288 with 1 Axes>"
      ]
     },
     "metadata": {
      "needs_background": "light"
     },
     "output_type": "display_data"
    },
    {
     "data": {
      "text/plain": [
       "<Figure size 432x288 with 0 Axes>"
      ]
     },
     "metadata": {},
     "output_type": "display_data"
    }
   ],
   "source": [
    "x_latsh = sh[\"Latitude\"]\n",
    "y_windspeedsh = sh[\"Wind Speed\"]\n",
    "\n",
    "# Add the linear regression equation and line to plot\n",
    "\n",
    "x_values = x_latsh \n",
    "y_values = y_windspeedsh\n",
    "(slope, intercept, rvalue, pvalue, stderr) = linregress(x_values, y_values)\n",
    "regress_values = x_values * slope + intercept\n",
    "line_eq = \"y = \" + str(round(slope,2)) + \"x + \" + str(round(intercept))\n",
    "plt.scatter(x_values, y_values)\n",
    "plt.plot(x_values,regress_values,\"r-\")\n",
    "plt.annotate(line_eq,(6,10),fontsize=15,color=\"red\")\n",
    "plt.title(\"SH City Lat vs. Wind Speed MPH\")\n",
    "plt.xlabel(\"Lat\")\n",
    "plt.ylabel(\"Wind Speed MPH\")\n",
    "plt.grid(True)\n",
    "plt.show()\n",
    "\n",
    "plt.savefig(\"output_data/SH City Lat - Wind Speed - Regression.png\")"
   ]
  },
  {
   "cell_type": "code",
   "execution_count": null,
   "metadata": {},
   "outputs": [],
   "source": [
    "# FINDINGS\n",
    "    # higher max temperatures closer to the equator (-20 to 40) -- closer to the sun\n",
    "    # more cities in the northern hemisphere -- the northern hemisphere is more industrialized and larger landmass\n",
    "    # lower humidity between both -35 to 0, and 20 to 40 -- highest humidity is near the equator\n",
    "    # least cloudiness between 0 to 20 -- higher amount of sunshine related to less cloudiness\n",
    "    "
   ]
  }
 ],
 "metadata": {
  "anaconda-cloud": {},
  "kernel_info": {
   "name": "python3"
  },
  "kernelspec": {
   "display_name": "Python 3",
   "language": "python",
   "name": "python3"
  },
  "language_info": {
   "codemirror_mode": {
    "name": "ipython",
    "version": 3
   },
   "file_extension": ".py",
   "mimetype": "text/x-python",
   "name": "python",
   "nbconvert_exporter": "python",
   "pygments_lexer": "ipython3",
   "version": "3.8.8"
  },
  "latex_envs": {
   "LaTeX_envs_menu_present": true,
   "autoclose": false,
   "autocomplete": true,
   "bibliofile": "biblio.bib",
   "cite_by": "apalike",
   "current_citInitial": 1,
   "eqLabelWithNumbers": true,
   "eqNumInitial": 1,
   "hotkeys": {
    "equation": "Ctrl-E",
    "itemize": "Ctrl-I"
   },
   "labels_anchors": false,
   "latex_user_defs": false,
   "report_style_numbering": false,
   "user_envs_cfg": false
  },
  "nteract": {
   "version": "0.12.3"
  }
 },
 "nbformat": 4,
 "nbformat_minor": 2
}
